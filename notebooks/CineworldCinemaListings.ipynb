{
 "cells": [
  {
   "cell_type": "markdown",
   "id": "0",
   "metadata": {},
   "source": [
    "# Cineworld Listings\n",
    "\n",
    "I like Weird movies coming to Imax, I don't like watching newspapers/etc to see Belfast announcing them. \n",
    "\n",
    "## Basic mode\n",
    "\n",
    "Yup, turns out cineworld just checks based on user-agent. And overall appears to be even more basic that [what this one looked like](https://github.com/oracal/cineworld)\n",
    "\n",
    "Easy observations:\n",
    "\n",
    "* Films are uniquely identified by `id`, which is also persisted in teh rest of the api calls (see `link` attribute)\n",
    "* `117` is Belfasts Site code\n",
    "* No clue what the 10108 is."
   ]
  },
  {
   "cell_type": "code",
   "execution_count": null,
   "id": "1",
   "metadata": {},
   "outputs": [],
   "source": [
    "import requests\n",
    "from datetime import date\n",
    "\n",
    "headers = {\n",
    "    \"User-Agent\":\"Mozilla/5.0 (Macintosh; Intel Mac OS X 10.15; rv:124.0) Gecko/20100101 Firefox/124.0\",\n",
    "}\n",
    "\n",
    "requests.get(f\"https://www.cineworld.co.uk/uk/data-api-service/v1/quickbook/10108/film-events/in-cinema/117/at-date/{date.today().isoformat()}\", \n",
    "             headers=headers).json()['body']['films'][0]"
   ]
  },
  {
   "cell_type": "code",
   "execution_count": null,
   "id": "2",
   "metadata": {},
   "outputs": [],
   "source": [
    "from datetime import date\n",
    "def get_cinema_listing_for(screening_date = None, site_code=117):\n",
    "    if screening_date is None:\n",
    "        screening_date = str(date.today())\n",
    "    elif isinstance(screening_date, date):\n",
    "        screening_date = str(screening_date)\n",
    "    else:\n",
    "        raise ValueError(\"Can only use date-type with screening_date\")\n",
    "    response = requests.get(f\"https://www.cineworld.co.uk/uk/data-api-service/v1/quickbook/10108/film-events/in-cinema/{site_code}/at-date/{screening_date}\", headers=headers)\n",
    "    response.raise_for_status()\n",
    "    return response.json()['body']['films']\n",
    "    \n",
    "listings = get_cinema_listing_for()\n",
    "listings[0]['name']"
   ]
  },
  {
   "cell_type": "code",
   "execution_count": null,
   "id": "3",
   "metadata": {},
   "outputs": [],
   "source": [
    "listings[0].keys()"
   ]
  },
  {
   "cell_type": "code",
   "execution_count": null,
   "id": "4",
   "metadata": {},
   "outputs": [],
   "source": [
    "import pandas as pd\n",
    "from tqdm.auto import tqdm\n",
    "\n",
    "listings = []\n",
    "\n",
    "for d in tqdm(pd.date_range('today', freq='D', periods=28)):\n",
    "    _d = d.date()\n",
    "    for listing in get_cinema_listing_for(_d):\n",
    "        listing['date'] = _d\n",
    "        listings.append(listing)        "
   ]
  },
  {
   "cell_type": "code",
   "execution_count": null,
   "id": "5",
   "metadata": {},
   "outputs": [],
   "source": [
    "df = pd.DataFrame(listings)"
   ]
  },
  {
   "cell_type": "code",
   "execution_count": null,
   "id": "6",
   "metadata": {},
   "outputs": [],
   "source": []
  },
  {
   "cell_type": "code",
   "execution_count": null,
   "id": "7",
   "metadata": {},
   "outputs": [],
   "source": [
    "df[df['attributeIds'].apply(lambda l: 'imax' in l)][['name','date']]"
   ]
  }
 ],
 "metadata": {
  "kernelspec": {
   "display_name": "Python 3 (ipykernel)",
   "language": "python",
   "name": "python3"
  },
  "language_info": {
   "codemirror_mode": {
    "name": "ipython",
    "version": 3
   },
   "file_extension": ".py",
   "mimetype": "text/x-python",
   "name": "python",
   "nbconvert_exporter": "python",
   "pygments_lexer": "ipython3",
   "version": "3.11.3"
  }
 },
 "nbformat": 4,
 "nbformat_minor": 5
}
