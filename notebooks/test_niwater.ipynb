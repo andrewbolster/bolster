{
 "cells": [
  {
   "cell_type": "markdown",
   "metadata": {},
   "source": [
    "# NI Water Quality Data API Testing\n",
    "\n",
    "During development of [NI Water](https://github.com/andrewbolster/bolster/pull/1009), the dataset changed underfoot and became disconnected from the [OpenDataNI dataset](https://admin.opendatani.gov.uk/dataset/ni-water-customer-tap-authorised-supply-point-results) that drove the mapping between Zones and Postcodes.\n",
    "\n",
    "## API Migration\n",
    "\n",
    "The NI Water API has been updated from the old `.ashx` endpoint to a new REST API:\n",
    "\n",
    "- **Old API**: `https://www.niwater.com/water-quality-lookup.ashx?z={zone_code}` (no longer working)\n",
    "- **New API**: `https://www.niwater.com/api/water-quality/getitem?p={postcode}` (postcode-based lookup)\n",
    "- **Multi-address**: `https://www.niwater.com/api/water-quality/getitem?z={zone}&p={postcode}` (for postcodes with multiple addresses)\n",
    "\n",
    "This notebook demonstrates how to use the updated `bolster.data_sources.ni_water` module with the new API."
   ]
  },
  {
   "cell_type": "code",
   "execution_count": null,
   "metadata": {},
   "outputs": [],
   "source": [
    "import sys\n",
    "import os\n",
    "from pathlib import Path\n",
    "\n",
    "# Get the absolute path to the src directory\n",
    "src_path = Path(\"../src\").resolve()\n",
    "sys.path.insert(0, str(src_path))\n",
    "\n",
    "import bolster\n",
    "from bolster.data_sources.ni_water import *\n",
    "import pandas as pd"
   ]
  },
  {
   "cell_type": "markdown",
   "metadata": {},
   "source": [
    "## Example 1: Get Water Quality by Postcode (Single Address)\n",
    "\n",
    "Most postcodes have a single water supply zone. The new API allows direct lookup by postcode:"
   ]
  },
  {
   "cell_type": "code",
   "execution_count": null,
   "metadata": {},
   "outputs": [],
   "source": [
    "# Get water quality data for a single-address postcode\n",
    "data = get_water_quality_by_postcode('BT14 7EJ')\n",
    "print(f\"Water Supply Zone: {data['Water Supply Zone']}\")\n",
    "print(f\"\\nHardness Classification: {data['NI Hardness Classification']}\")\n",
    "print(f\"Total Hardness: {data['Total Hardness (mg/l)']} mg/l\")\n",
    "data"
   ]
  },
  {
   "cell_type": "markdown",
   "metadata": {},
   "source": [
    "## Example 2: Get Water Quality by Postcode (Multiple Addresses)\n",
    "\n",
    "Some postcodes contain multiple addresses served by different water supply zones. The API detects this and automatically uses the first available zone:"
   ]
  },
  {
   "cell_type": "code",
   "execution_count": null,
   "metadata": {},
   "outputs": [],
   "source": [
    "# This postcode has multiple addresses with different zones\n",
    "# The function will automatically select the first zone (ZS0107)\n",
    "data_multi = get_water_quality_by_postcode('BT12 4PE')\n",
    "print(f\"Water Supply Zone: {data_multi['Water Supply Zone']}\")\n",
    "print(f\"Hardness Classification: {data_multi['NI Hardness Classification']}\")\n",
    "data_multi"
   ]
  },
  {
   "cell_type": "markdown",
   "metadata": {},
   "source": [
    "## Example 3: Specify Zone Code for Multi-Address Postcodes\n",
    "\n",
    "If you need a specific address within a multi-address postcode, you can provide the zone code:"
   ]
  },
  {
   "cell_type": "code",
   "execution_count": null,
   "metadata": {},
   "outputs": [],
   "source": [
    "# Get data for a specific zone within the postcode\n",
    "# BT12 4PE has both ZS0107 and ZS0101 zones available\n",
    "data_specific = get_water_quality_by_postcode('BT12 4PE', zone_code='ZS0101')\n",
    "print(f\"Water Supply Zone: {data_specific['Water Supply Zone']}\")\n",
    "print(f\"Hardness Classification: {data_specific['NI Hardness Classification']}\")\n",
    "data_specific"
   ]
  },
  {
   "cell_type": "markdown",
   "metadata": {},
   "source": [
    "## Example 4: Get Water Quality by Zone Code\n",
    "\n",
    "The zone-based lookup still works, but now internally uses the postcode API by finding a postcode for the zone:"
   ]
  },
  {
   "cell_type": "code",
   "execution_count": null,
   "metadata": {},
   "outputs": [],
   "source": [
    "# Get water quality data by zone code (backward compatible)\n",
    "data_zone = get_water_quality_by_zone('ZS0101')\n",
    "print(f\"Water Supply Zone: {data_zone['Water Supply Zone']}\")\n",
    "print(f\"Hardness Classification: {data_zone['NI Hardness Classification']}\")\n",
    "data_zone"
   ]
  },
  {
   "cell_type": "markdown",
   "metadata": {},
   "source": [
    "## Example 5: Postcode to Water Supply Zone Mapping\n",
    "\n",
    "The postcode-to-zone mapping comes from OpenDataNI and is used to look up zones:"
   ]
  },
  {
   "cell_type": "code",
   "execution_count": null,
   "metadata": {},
   "outputs": [],
   "source": [
    "mapping = get_postcode_to_water_supply_zone()\n",
    "print(f\"Total postcodes in mapping: {len(mapping)}\")\n",
    "print(f\"Total unique zones: {len(set(mapping.values()))}\")\n",
    "print(f\"\\nSample mappings:\")\n",
    "for postcode, zone in list(mapping.items())[:5]:\n",
    "    print(f\"  {postcode} -> {zone}\")"
   ]
  },
  {
   "cell_type": "code",
   "execution_count": null,
   "metadata": {},
   "outputs": [],
   "source": [
    "# Find all postcodes for a specific zone\n",
    "zone_postcodes = {code for code, zone in mapping.items() if zone == 'ZS0101'}\n",
    "print(f\"Postcodes in zone ZS0101: {len(zone_postcodes)}\")\n",
    "print(f\"Sample postcodes: {list(zone_postcodes)[:10]}\")"
   ]
  },
  {
   "cell_type": "markdown",
   "metadata": {},
   "source": [
    "## Example 6: Get All Water Quality Data\n",
    "\n",
    "Retrieve water quality data for all valid supply zones (this takes several minutes):"
   ]
  },
  {
   "cell_type": "code",
   "execution_count": null,
   "metadata": {},
   "outputs": [],
   "source": [
    "# Get all water quality data (WARNING: slow operation)\n",
    "df = get_water_quality()\n",
    "print(f\"Total zones with data: {len(df)}\")\n",
    "print(f\"\\nHardness classification distribution:\")\n",
    "print(df['NI Hardness Classification'].value_counts())\n",
    "df.head()"
   ]
  },
  {
   "cell_type": "code",
   "execution_count": null,
   "metadata": {},
   "outputs": [],
   "source": [
    "# View the full dataset\n",
    "df"
   ]
  },
  {
   "cell_type": "markdown",
   "metadata": {},
   "source": [
    "## Data Fields\n",
    "\n",
    "Each water quality record includes the following fields:"
   ]
  },
  {
   "cell_type": "code",
   "execution_count": null,
   "metadata": {},
   "outputs": [],
   "source": [
    "# Show all available data fields\n",
    "sample_data = get_water_quality_by_postcode('BT14 7EJ')\n",
    "print(\"Available fields:\")\n",
    "for field in sample_data.index:\n",
    "    print(f\"  - {field}\")"
   ]
  }
 ],
 "metadata": {
  "kernelspec": {
   "display_name": "Python 3",
   "language": "python",
   "name": "python3"
  },
  "language_info": {
   "codemirror_mode": {
    "name": "ipython",
    "version": 3
   },
   "file_extension": ".py",
   "mimetype": "text/x-python",
   "name": "python",
   "nbconvert_exporter": "python",
   "pygments_lexer": "ipython3",
   "version": "3.11.0"
  }
 },
 "nbformat": 4,
 "nbformat_minor": 4
}
