{
 "cells": [
  {
   "cell_type": "markdown",
   "id": "0",
   "metadata": {},
   "source": [
    "During development of [NI Water](https://github.com/andrewbolster/bolster/pull/1009), the dataset changed underfoot and became disconnected from the [OpenDataNI dataset](https://admin.opendatani.gov.uk/dataset/ni-water-customer-tap-authorised-supply-point-results) that drove the mapping between Zones and Postcodes\n",
    "\n",
    "Presumably, it's a load of postcodes (all BT34) that didn't participate in the 2023, but did in 2022, which doesn't make any sense either because the api call (\"https://www.niwater.com/water-quality-lookup.ashx?z={zone_code}\") is just returning blank. (Zone ZS0904)\n",
    "\n",
    "Anyway, this is here just to remind me when this all goes to hell next time. "
   ]
  },
  {
   "cell_type": "code",
   "execution_count": null,
   "id": "1",
   "metadata": {},
   "outputs": [],
   "source": [
    "import sys\n",
    "import os\n",
    "from pathlib import Path\n",
    "\n",
    "# Get the absolute path to the src directory\n",
    "# Adjust this path as needed based on the location of your notebook\n",
    "src_path = Path(\"../src\").resolve()  # If scripts is at the same level as src\n",
    "sys.path.insert(0, str(src_path))\n",
    "\n",
    "import bolster\n",
    "\n",
    "from bolster.data_sources.ni_water import *\n",
    "\n",
    "supply_zones = set(get_postcode_to_water_supply_zone().values())\n",
    "\n",
    "df = pd.DataFrame([get_water_quality_by_zone(zone_code) for zone_code in supply_zones if zone_code != \"No Zone Identified\"])\n",
    "df = df.astype({\"NI Hardness Classification\": T_HARDNESS})\n",
    "df"
   ]
  },
  {
   "cell_type": "code",
   "execution_count": null,
   "id": "2",
   "metadata": {},
   "outputs": [],
   "source": [
    "df"
   ]
  },
  {
   "cell_type": "code",
   "execution_count": null,
   "id": "3",
   "metadata": {},
   "outputs": [],
   "source": [
    "df = get_water_quality()"
   ]
  },
  {
   "cell_type": "code",
   "execution_count": null,
   "id": "4",
   "metadata": {},
   "outputs": [],
   "source": [
    "df"
   ]
  },
  {
   "cell_type": "code",
   "execution_count": null,
   "id": "5",
   "metadata": {},
   "outputs": [],
   "source": [
    "mapping = get_postcode_to_water_supply_zone()"
   ]
  },
  {
   "cell_type": "code",
   "execution_count": null,
   "id": "6",
   "metadata": {},
   "outputs": [],
   "source": [
    "{ code for code, zone in mapping.items() if zone == 'ZS0904'}"
   ]
  },
  {
   "cell_type": "code",
   "execution_count": null,
   "id": "7",
   "metadata": {},
   "outputs": [],
   "source": [
    "data = get_water_quality_by_zone('ZS0101')"
   ]
  },
  {
   "cell_type": "code",
   "execution_count": null,
   "id": "8",
   "metadata": {},
   "outputs": [],
   "source": [
    "data.index"
   ]
  },
  {
   "cell_type": "code",
   "execution_count": null,
   "id": "9",
   "metadata": {},
   "outputs": [],
   "source": [
    "df['NI Hardness Classification'].value_counts().keys()"
   ]
  }
 ],
 "metadata": {
  "kernelspec": {
   "display_name": ".venv",
   "language": "python",
   "name": "python3"
  },
  "language_info": {
   "codemirror_mode": {
    "name": "ipython",
    "version": 3
   },
   "file_extension": ".py",
   "mimetype": "text/x-python",
   "name": "python",
   "nbconvert_exporter": "python",
   "pygments_lexer": "ipython3",
   "version": "3.13.1"
  }
 },
 "nbformat": 4,
 "nbformat_minor": 5
}
