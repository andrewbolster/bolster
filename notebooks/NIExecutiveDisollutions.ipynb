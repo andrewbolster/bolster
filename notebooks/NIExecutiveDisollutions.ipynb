{
 "cells": [
  {
   "cell_type": "code",
   "execution_count": 1,
   "metadata": {},
   "outputs": [
    {
     "name": "stderr",
     "output_type": "stream",
     "text": [
      "/var/folders/9p/y8jwvy1n7v10llkj6r9qtdrc0000gn/T/ipykernel_9419/3148849025.py:44: FutureWarning: DataFrame.applymap has been deprecated. Use DataFrame.map instead.\n",
      "  executive_durations.fillna('').applymap(\n"
     ]
    },
    {
     "data": {
      "text/html": [
       "<div>\n",
       "<style scoped>\n",
       "    .dataframe tbody tr th:only-of-type {\n",
       "        vertical-align: middle;\n",
       "    }\n",
       "\n",
       "    .dataframe tbody tr th {\n",
       "        vertical-align: top;\n",
       "    }\n",
       "\n",
       "    .dataframe thead th {\n",
       "        text-align: right;\n",
       "    }\n",
       "</style>\n",
       "<table border=\"1\" class=\"dataframe\">\n",
       "  <thead>\n",
       "    <tr style=\"text-align: right;\">\n",
       "      <th></th>\n",
       "      <th>Dissolved</th>\n",
       "    </tr>\n",
       "    <tr>\n",
       "      <th>Executive</th>\n",
       "      <th></th>\n",
       "    </tr>\n",
       "  </thead>\n",
       "  <tbody>\n",
       "    <tr>\n",
       "      <th>1st</th>\n",
       "      <td>1566 days</td>\n",
       "    </tr>\n",
       "    <tr>\n",
       "      <th>2nd</th>\n",
       "      <td>1416 days</td>\n",
       "    </tr>\n",
       "    <tr>\n",
       "      <th>3rd</th>\n",
       "      <td>1827 days</td>\n",
       "    </tr>\n",
       "    <tr>\n",
       "      <th>4th</th>\n",
       "      <td>235 days</td>\n",
       "    </tr>\n",
       "    <tr>\n",
       "      <th>5th</th>\n",
       "      <td>754 days</td>\n",
       "    </tr>\n",
       "    <tr>\n",
       "      <th>6th</th>\n",
       "      <td>NaT</td>\n",
       "    </tr>\n",
       "  </tbody>\n",
       "</table>\n",
       "</div>"
      ],
      "text/plain": [
       "          Dissolved\n",
       "Executive          \n",
       "1st       1566 days\n",
       "2nd       1416 days\n",
       "3rd       1827 days\n",
       "4th        235 days\n",
       "5th        754 days\n",
       "6th             NaT"
      ]
     },
     "execution_count": 1,
     "metadata": {},
     "output_type": "execute_result"
    }
   ],
   "source": [
    "import dateparser\n",
    "import numpy as np\n",
    "import pandas as pd\n",
    "\n",
    "tables = pd.read_html(\"https://en.wikipedia.org/wiki/Northern_Ireland_Executive\")\n",
    "tables[4].columns = range(len(tables[4].columns))\n",
    "\n",
    "# Get rid of the nasty multi index\n",
    "executive_events = tables[4][[0, 1, 2, 3, 4, 5, 6]]\n",
    "executive_events.columns = [\n",
    "    \"Executive\",\n",
    "    \"Date\",\n",
    "    \"Event\",\n",
    "    \"vFM\",\n",
    "    \"FM\",\n",
    "    \"vDFM\",\n",
    "    \"DFM\",\n",
    "]\n",
    "\n",
    "# Get rid of the comments row at the bottom\n",
    "executive_events = executive_events[:-1]\n",
    "\n",
    "# Clean up the 'Executive' as for some reason wikipedians count the caretakers differently.\n",
    "executive_events[\"Executive\"] = executive_events[\"Executive\"].map(\n",
    "    lambda x: x.split(\"(\")[0].split(' ')[0] # Such that 5th E.C. (6th A.) -> 5th\n",
    ")\n",
    "\n",
    "# Use the OFMDFM posts as a proxy for 'active' to flatten out the range of reasons for failure.\n",
    "executive_events[\"Active\"] = (\n",
    "    executive_events[[\"vFM\", \"FM\", \"vDFM\", \"DFM\"]]\n",
    "    .replace(\"Vacant\", None)\n",
    "    .replace(np.nan, None)\n",
    "    .any(axis=1)\n",
    ")\n",
    "\n",
    "executive_durations = (\n",
    "    executive_events.groupby([\"Executive\", \"Active\"])[\"Date\"].first().unstack()\n",
    ")\n",
    "\n",
    "executive_durations.columns = [\"Dissolved\", \"Established\"]\n",
    "executive_durations = executive_durations[reversed(executive_durations.columns)]\n",
    "\n",
    "# map in pandas 2.10; applymap in other versions\n",
    "executive_durations.fillna('').applymap(\n",
    "    lambda x: dateparser.parse(x) if x else None\n",
    ").diff(axis=1).iloc[:, -1:]"
   ]
  },
  {
   "cell_type": "code",
   "execution_count": 2,
   "metadata": {},
   "outputs": [
    {
     "name": "stderr",
     "output_type": "stream",
     "text": [
      "/var/folders/9p/y8jwvy1n7v10llkj6r9qtdrc0000gn/T/ipykernel_9419/1783321512.py:1: FutureWarning: DataFrame.applymap has been deprecated. Use DataFrame.map instead.\n",
      "  executive_durations = executive_durations.applymap(\n"
     ]
    }
   ],
   "source": [
    "\n",
    "executive_durations = executive_durations.applymap(\n",
    "    lambda s: dateparser.parse(s) if isinstance(s, str) else s\n",
    ")\n",
    "executive_durations[\"Duration\"] = executive_durations.diff(axis=1).iloc[:, -1:]\n",
    "\n",
    "executive_dissolutions = pd.concat(\n",
    "    [\n",
    "        executive_durations[\"Dissolved\"],\n",
    "        executive_durations[\"Established\"].shift(-1),\n",
    "    ],\n",
    "    axis=1,\n",
    ")\n"
   ]
  },
  {
   "cell_type": "code",
   "execution_count": 3,
   "metadata": {},
   "outputs": [],
   "source": [
    "\n",
    "import datetime\n",
    "executive_dissolutions = executive_dissolutions.apply(\n",
    "    lambda r: r.Established - r.Dissolved\n",
    "    if not pd.isnull(r.Established)\n",
    "    else datetime.datetime.today().replace(\n",
    "        hour=0, minute=0, second=0, microsecond=0\n",
    "    )\n",
    "    - r.Dissolved,\n",
    "    axis=1,\n",
    ")\n",
    "\n",
    "executive_durations[\"Interregnum\"] = executive_dissolutions"
   ]
  },
  {
   "cell_type": "code",
   "execution_count": 4,
   "metadata": {},
   "outputs": [
    {
     "name": "stderr",
     "output_type": "stream",
     "text": [
      "/var/folders/9p/y8jwvy1n7v10llkj6r9qtdrc0000gn/T/ipykernel_9419/3501325718.py:3: FutureWarning: ChainedAssignmentError: behaviour will change in pandas 3.0!\n",
      "You are setting values through chained assignment. Currently this works in certain cases, but when using Copy-on-Write (which will become the default behaviour in pandas 3.0) this will never work to update the original DataFrame or Series, because the intermediate object on which we are setting values will behave as a copy.\n",
      "A typical example is when you are setting values in a column of a DataFrame, like:\n",
      "\n",
      "df[\"col\"][row_indexer] = value\n",
      "\n",
      "Use `df.loc[row_indexer, \"col\"] = values` instead, to perform the assignment in a single step and ensure this keeps updating the original `df`.\n",
      "\n",
      "See the caveats in the documentation: https://pandas.pydata.org/pandas-docs/stable/user_guide/indexing.html#returning-a-view-versus-a-copy\n",
      "\n",
      "  executive_durations['Duration'].iloc[-1] = datetime.datetime.today().replace(\n",
      "/var/folders/9p/y8jwvy1n7v10llkj6r9qtdrc0000gn/T/ipykernel_9419/3501325718.py:3: SettingWithCopyWarning: \n",
      "A value is trying to be set on a copy of a slice from a DataFrame\n",
      "\n",
      "See the caveats in the documentation: https://pandas.pydata.org/pandas-docs/stable/user_guide/indexing.html#returning-a-view-versus-a-copy\n",
      "  executive_durations['Duration'].iloc[-1] = datetime.datetime.today().replace(\n"
     ]
    },
    {
     "data": {
      "text/html": [
       "<div>\n",
       "<style scoped>\n",
       "    .dataframe tbody tr th:only-of-type {\n",
       "        vertical-align: middle;\n",
       "    }\n",
       "\n",
       "    .dataframe tbody tr th {\n",
       "        vertical-align: top;\n",
       "    }\n",
       "\n",
       "    .dataframe thead th {\n",
       "        text-align: right;\n",
       "    }\n",
       "</style>\n",
       "<table border=\"1\" class=\"dataframe\">\n",
       "  <thead>\n",
       "    <tr style=\"text-align: right;\">\n",
       "      <th></th>\n",
       "      <th>Established</th>\n",
       "      <th>Dissolved</th>\n",
       "      <th>Duration</th>\n",
       "      <th>Interregnum</th>\n",
       "    </tr>\n",
       "    <tr>\n",
       "      <th>Executive</th>\n",
       "      <th></th>\n",
       "      <th></th>\n",
       "      <th></th>\n",
       "      <th></th>\n",
       "    </tr>\n",
       "  </thead>\n",
       "  <tbody>\n",
       "    <tr>\n",
       "      <th>1st</th>\n",
       "      <td>1998-07-01</td>\n",
       "      <td>2002-10-14</td>\n",
       "      <td>1566 days</td>\n",
       "      <td>1667 days</td>\n",
       "    </tr>\n",
       "    <tr>\n",
       "      <th>2nd</th>\n",
       "      <td>2007-05-08</td>\n",
       "      <td>2011-03-24</td>\n",
       "      <td>1416 days</td>\n",
       "      <td>53 days</td>\n",
       "    </tr>\n",
       "    <tr>\n",
       "      <th>3rd</th>\n",
       "      <td>2011-05-16</td>\n",
       "      <td>2016-05-16</td>\n",
       "      <td>1827 days</td>\n",
       "      <td>10 days</td>\n",
       "    </tr>\n",
       "    <tr>\n",
       "      <th>4th</th>\n",
       "      <td>2016-05-26</td>\n",
       "      <td>2017-01-16</td>\n",
       "      <td>235 days</td>\n",
       "      <td>1090 days</td>\n",
       "    </tr>\n",
       "    <tr>\n",
       "      <th>5th</th>\n",
       "      <td>2020-01-11</td>\n",
       "      <td>2022-02-03</td>\n",
       "      <td>754 days</td>\n",
       "      <td>730 days</td>\n",
       "    </tr>\n",
       "    <tr>\n",
       "      <th>6th</th>\n",
       "      <td>2024-02-03</td>\n",
       "      <td>NaT</td>\n",
       "      <td>219 days</td>\n",
       "      <td>NaT</td>\n",
       "    </tr>\n",
       "  </tbody>\n",
       "</table>\n",
       "</div>"
      ],
      "text/plain": [
       "          Established  Dissolved  Duration Interregnum\n",
       "Executive                                             \n",
       "1st        1998-07-01 2002-10-14 1566 days   1667 days\n",
       "2nd        2007-05-08 2011-03-24 1416 days     53 days\n",
       "3rd        2011-05-16 2016-05-16 1827 days     10 days\n",
       "4th        2016-05-26 2017-01-16  235 days   1090 days\n",
       "5th        2020-01-11 2022-02-03  754 days    730 days\n",
       "6th        2024-02-03        NaT  219 days         NaT"
      ]
     },
     "execution_count": 4,
     "metadata": {},
     "output_type": "execute_result"
    }
   ],
   "source": [
    "# Fix last / most recent\n",
    "\n",
    "executive_durations['Duration'].iloc[-1] = datetime.datetime.today().replace(\n",
    "    hour=0, minute=0, second=0, microsecond=0\n",
    ") - executive_durations['Established'].iloc[-1]\n",
    "executive_durations"
   ]
  },
  {
   "cell_type": "code",
   "execution_count": 5,
   "metadata": {},
   "outputs": [
    {
     "data": {
      "text/plain": [
       "Established     datetime64[ns]\n",
       "Dissolved       datetime64[ns]\n",
       "Duration       timedelta64[ns]\n",
       "Interregnum    timedelta64[ns]\n",
       "dtype: object"
      ]
     },
     "execution_count": 5,
     "metadata": {},
     "output_type": "execute_result"
    }
   ],
   "source": [
    "executive_durations.dtypes"
   ]
  },
  {
   "cell_type": "code",
   "execution_count": 11,
   "metadata": {},
   "outputs": [
    {
     "data": {
      "text/plain": [
       "Timedelta('3550 days 00:00:00')"
      ]
     },
     "execution_count": 11,
     "metadata": {},
     "output_type": "execute_result"
    }
   ],
   "source": [
    "executive_durations['Interregnum'].sum()"
   ]
  },
  {
   "cell_type": "code",
   "execution_count": null,
   "metadata": {},
   "outputs": [],
   "source": [
    "executive_durations"
   ]
  }
 ],
 "metadata": {
  "kernelspec": {
   "display_name": "Python 3 (ipykernel)",
   "language": "python",
   "name": "python3"
  },
  "language_info": {
   "codemirror_mode": {
    "name": "ipython",
    "version": 3
   },
   "file_extension": ".py",
   "mimetype": "text/x-python",
   "name": "python",
   "nbconvert_exporter": "python",
   "pygments_lexer": "ipython3",
   "version": "3.10.14"
  }
 },
 "nbformat": 4,
 "nbformat_minor": 4
}
